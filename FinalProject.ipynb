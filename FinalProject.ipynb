{
 "cells": [
  {
   "cell_type": "markdown",
   "id": "b050bc2b",
   "metadata": {},
   "source": [
    "# introductory text (explain: dataset, task)"
   ]
  },
  {
   "cell_type": "markdown",
   "id": "e566dabb",
   "metadata": {},
   "source": [
    "what dataset are you working with?  what are you trying to do? .. "
   ]
  },
  {
   "cell_type": "markdown",
   "id": "3a7ba21f",
   "metadata": {},
   "source": [
    "# import requisite modules"
   ]
  },
  {
   "cell_type": "code",
   "execution_count": 6,
   "id": "214f72fc",
   "metadata": {},
   "outputs": [],
   "source": [
    "# python code"
   ]
  },
  {
   "cell_type": "markdown",
   "id": "0c134689",
   "metadata": {},
   "source": [
    "# helper functions (if necessary)"
   ]
  },
  {
   "cell_type": "code",
   "execution_count": 7,
   "id": "8a810998",
   "metadata": {},
   "outputs": [],
   "source": [
    "# python code"
   ]
  },
  {
   "cell_type": "markdown",
   "id": "3a1a5641",
   "metadata": {},
   "source": [
    "# pre-process, analyze dataset"
   ]
  },
  {
   "cell_type": "code",
   "execution_count": 8,
   "id": "f118dca8",
   "metadata": {},
   "outputs": [],
   "source": [
    "# python code"
   ]
  },
  {
   "cell_type": "markdown",
   "id": "66e09527",
   "metadata": {},
   "source": [
    "# visualize dataset"
   ]
  },
  {
   "cell_type": "code",
   "execution_count": 9,
   "id": "baaea124",
   "metadata": {},
   "outputs": [],
   "source": [
    "# python code"
   ]
  },
  {
   "cell_type": "markdown",
   "id": "c5a729c0",
   "metadata": {},
   "source": [
    "# experiment with algorithms, feature sets, parameters, etc.,"
   ]
  },
  {
   "cell_type": "code",
   "execution_count": 10,
   "id": "ee860bb6",
   "metadata": {},
   "outputs": [],
   "source": [
    "# python code"
   ]
  },
  {
   "cell_type": "markdown",
   "id": "6b8d880d",
   "metadata": {},
   "source": [
    "# visualize experimental results"
   ]
  },
  {
   "cell_type": "code",
   "execution_count": 11,
   "id": "239584cc",
   "metadata": {},
   "outputs": [],
   "source": [
    "# python code"
   ]
  },
  {
   "cell_type": "markdown",
   "id": "813ba4fa",
   "metadata": {},
   "source": [
    "# analyze / explain experimental results"
   ]
  },
  {
   "cell_type": "markdown",
   "id": "b2d26978",
   "metadata": {},
   "source": [
    "what worked? what didn't? WHY? "
   ]
  },
  {
   "cell_type": "markdown",
   "id": "0196ae8c",
   "metadata": {},
   "source": [
    "# conclusion "
   ]
  },
  {
   "cell_type": "markdown",
   "id": "c6115901",
   "metadata": {},
   "source": [
    "..."
   ]
  }
 ],
 "metadata": {
  "kernelspec": {
   "display_name": "Python 3",
   "language": "python",
   "name": "python3"
  },
  "language_info": {
   "codemirror_mode": {
    "name": "ipython",
    "version": 3
   },
   "file_extension": ".py",
   "mimetype": "text/x-python",
   "name": "python",
   "nbconvert_exporter": "python",
   "pygments_lexer": "ipython3",
   "version": "3.5.6"
  }
 },
 "nbformat": 4,
 "nbformat_minor": 5
}
